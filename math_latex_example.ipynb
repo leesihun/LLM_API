{
 "cells": [
  {
   "cell_type": "markdown",
   "metadata": {},
   "source": [
    "# Math LaTeX Display Examples\n",
    "\n",
    "This notebook demonstrates how to display mathematical expressions with LaTeX formatting in Jupyter notebooks."
   ]
  },
  {
   "cell_type": "code",
   "execution_count": null,
   "metadata": {},
   "outputs": [],
   "source": [
    "from IPython.display import display, Math, Latex\n",
    "from sympy import symbols, latex, Rational, simplify, sympify, diff, integrate, factor, expand\n",
    "import requests\n",
    "import json"
   ]
  },
  {
   "cell_type": "markdown",
   "metadata": {},
   "source": [
    "## Example 1: Display Your Fraction Problem with LaTeX"
   ]
  },
  {
   "cell_type": "code",
   "execution_count": null,
   "metadata": {},
   "outputs": [],
   "source": [
    "# Display the fraction problem with proper LaTeX formatting\n",
    "display(Latex(r'''\n",
    "Multiply both the dividend and divisor by 10,000 to eliminate the decimals:\n",
    "$$\\frac{11.951 \\times 10,000}{3.751 \\times 10,000} = \\frac{119510}{37510}$$\n",
    "This simplifies the division by converting it into a whole number problem.\n",
    "'''))"
   ]
  },
  {
   "cell_type": "markdown",
   "metadata": {},
   "source": [
    "## Example 2: Use SymPy to Compute and Display"
   ]
  },
  {
   "cell_type": "code",
   "execution_count": null,
   "metadata": {},
   "outputs": [],
   "source": [
    "# Create rational numbers\n",
    "numerator = Rational(119510)\n",
    "denominator = Rational(37510)\n",
    "fraction = numerator / denominator\n",
    "simplified = simplify(fraction)\n",
    "\n",
    "# Display step by step\n",
    "print(\"Original fraction:\")\n",
    "display(Math(r'\\frac{119510}{37510}'))\n",
    "\n",
    "print(\"\\nSimplified:\")\n",
    "display(Math(latex(simplified)))\n",
    "\n",
    "print(\"\\nDecimal approximation:\")\n",
    "display(Math(latex(simplified.evalf(10))))"
   ]
  },
  {
   "cell_type": "markdown",
   "metadata": {},
   "source": [
    "## Example 3: Step-by-Step Calculation"
   ]
  },
  {
   "cell_type": "code",
   "execution_count": null,
   "metadata": {},
   "outputs": [],
   "source": [
    "# Step 1: Original division\n",
    "print(\"Step 1: Original division\")\n",
    "original = sympify(\"11.951 / 3.751\")\n",
    "display(Math(latex(original) + r' \\approx ' + latex(original.evalf(4))))\n",
    "\n",
    "# Step 2: Multiply by 10,000/10,000\n",
    "print(\"\\nStep 2: Multiply by 10,000/10,000\")\n",
    "scaled = Rational(119510, 37510)\n",
    "display(Math(r'\\frac{11.951 \\times 10000}{3.751 \\times 10000} = \\frac{119510}{37510}'))\n",
    "\n",
    "# Step 3: Simplified result\n",
    "print(\"\\nStep 3: Simplified result\")\n",
    "simplified = simplify(scaled)\n",
    "display(Math(r'\\frac{119510}{37510} = ' + latex(simplified)))"
   ]
  },
  {
   "cell_type": "markdown",
   "metadata": {},
   "source": [
    "## Example 4: Advanced Math Operations with LaTeX"
   ]
  },
  {
   "cell_type": "code",
   "execution_count": null,
   "metadata": {},
   "outputs": [],
   "source": [
    "# Derivatives\n",
    "x = symbols('x')\n",
    "f = x**3 + 2*x**2 - 5*x + 1\n",
    "df = diff(f, x)\n",
    "\n",
    "print(\"Derivative:\")\n",
    "display(Math(r'f(x) = ' + latex(f)))\n",
    "display(Math(r\"f'(x) = \" + latex(df)))"
   ]
  },
  {
   "cell_type": "code",
   "execution_count": null,
   "metadata": {},
   "outputs": [],
   "source": [
    "# Integrals\n",
    "g = 3*x**2 + 2*x\n",
    "ig = integrate(g, x)\n",
    "\n",
    "print(\"Integral:\")\n",
    "display(Math(r'\\int (' + latex(g) + r') \\, dx = ' + latex(ig) + ' + C'))"
   ]
  },
  {
   "cell_type": "code",
   "execution_count": null,
   "metadata": {},
   "outputs": [],
   "source": [
    "# Factoring\n",
    "expr = x**2 - 5*x + 6\n",
    "factored = factor(expr)\n",
    "\n",
    "print(\"Factoring:\")\n",
    "display(Math(latex(expr) + ' = ' + latex(factored)))"
   ]
  },
  {
   "cell_type": "markdown",
   "metadata": {},
   "source": [
    "## Example 5: Using the API with LaTeX Support"
   ]
  },
  {
   "cell_type": "code",
   "execution_count": null,
   "metadata": {},
   "outputs": [],
   "source": [
    "# First, login to get token (update credentials as needed)\n",
    "BASE_URL = \"http://localhost:8000\"\n",
    "\n",
    "login_response = requests.post(\n",
    "    f\"{BASE_URL}/api/auth/login\",\n",
    "    json={\"username\": \"guest\", \"password\": \"guest_test1\"}\n",
    ")\n",
    "\n",
    "if login_response.status_code == 200:\n",
    "    token = login_response.json()[\"access_token\"]\n",
    "    print(\"✓ Login successful\")\n",
    "else:\n",
    "    print(f\"✗ Login failed: {login_response.text}\")\n",
    "    token = None"
   ]
  },
  {
   "cell_type": "code",
   "execution_count": null,
   "metadata": {},
   "outputs": [],
   "source": [
    "# Test math API with LaTeX\n",
    "if token:\n",
    "    headers = {\"Authorization\": f\"Bearer {token}\"}\n",
    "    \n",
    "    # Example 1: Simple expression with LaTeX\n",
    "    response = requests.post(\n",
    "        f\"{BASE_URL}/api/tools/math\",\n",
    "        headers=headers,\n",
    "        json={\"expression\": \"11.951 / 3.751\", \"return_latex\": True}\n",
    "    )\n",
    "    \n",
    "    if response.status_code == 200:\n",
    "        data = response.json()\n",
    "        print(\"Plain text result:\", data[\"result\"])\n",
    "        print(\"\\nLaTeX rendering:\")\n",
    "        if data.get(\"latex\"):\n",
    "            display(Math(data[\"latex\"]))\n",
    "    else:\n",
    "        print(f\"Error: {response.text}\")"
   ]
  },
  {
   "cell_type": "code",
   "execution_count": null,
   "metadata": {},
   "outputs": [],
   "source": [
    "# Example 2: Derivative with LaTeX\n",
    "if token:\n",
    "    response = requests.post(\n",
    "        f\"{BASE_URL}/api/tools/math\",\n",
    "        headers=headers,\n",
    "        json={\"expression\": \"derivative of x^3 + 2*x^2 - 5*x + 1 with respect to x\", \"return_latex\": True}\n",
    "    )\n",
    "    \n",
    "    if response.status_code == 200:\n",
    "        data = response.json()\n",
    "        print(\"Plain text result:\", data[\"result\"])\n",
    "        print(\"\\nLaTeX rendering:\")\n",
    "        if data.get(\"latex\"):\n",
    "            display(Math(data[\"latex\"]))\n",
    "    else:\n",
    "        print(f\"Error: {response.text}\")"
   ]
  },
  {
   "cell_type": "code",
   "execution_count": null,
   "metadata": {},
   "outputs": [],
   "source": [
    "# Example 3: Integral with LaTeX\n",
    "if token:\n",
    "    response = requests.post(\n",
    "        f\"{BASE_URL}/api/tools/math\",\n",
    "        headers=headers,\n",
    "        json={\"expression\": \"integral of 3*x^2 + 2*x with respect to x\", \"return_latex\": True}\n",
    "    )\n",
    "    \n",
    "    if response.status_code == 200:\n",
    "        data = response.json()\n",
    "        print(\"Plain text result:\", data[\"result\"])\n",
    "        print(\"\\nLaTeX rendering:\")\n",
    "        if data.get(\"latex\"):\n",
    "            display(Math(data[\"latex\"]))\n",
    "    else:\n",
    "        print(f\"Error: {response.text}\")"
   ]
  },
  {
   "cell_type": "code",
   "execution_count": null,
   "metadata": {},
   "outputs": [],
   "source": [
    "# Example 4: Simplify with LaTeX\n",
    "if token:\n",
    "    response = requests.post(\n",
    "        f\"{BASE_URL}/api/tools/math\",\n",
    "        headers=headers,\n",
    "        json={\"expression\": \"simplify (x^2 - 1)/(x - 1)\", \"return_latex\": True}\n",
    "    )\n",
    "    \n",
    "    if response.status_code == 200:\n",
    "        data = response.json()\n",
    "        print(\"Plain text result:\", data[\"result\"])\n",
    "        print(\"\\nLaTeX rendering:\")\n",
    "        if data.get(\"latex\"):\n",
    "            display(Math(data[\"latex\"]))\n",
    "    else:\n",
    "        print(f\"Error: {response.text}\")"
   ]
  },
  {
   "cell_type": "markdown",
   "metadata": {},
   "source": [
    "## Unicode Math Symbols (Console-Friendly)\n",
    "\n",
    "For use in terminals or where LaTeX isn't available:"
   ]
  },
  {
   "cell_type": "code",
   "execution_count": null,
   "metadata": {},
   "outputs": [],
   "source": [
    "# Unicode mathematical symbols\n",
    "print(\"Division: 11.951 ÷ 3.751\")\n",
    "print(\"Fractions: ½ × ¾ = ⅜\")\n",
    "print(\"Square root: √2 ≈ 1.414\")\n",
    "print(\"Pi: π ≈ 3.14159\")\n",
    "print(\"Superscripts: x² + y² = r²\")\n",
    "print(\"Subscripts: H₂O\")\n",
    "print(\"Inequality: x ≤ 5 ≥ y\")\n",
    "print(\"Multiplication: 3 × 4 = 12\")\n",
    "print(\"Infinity: ∞\")\n",
    "print(\"Sum: ∑ n² from n=1 to 10\")\n",
    "print(\"Integral: ∫ x dx\")"
   ]
  }
 ],
 "metadata": {
  "kernelspec": {
   "display_name": "Python 3",
   "language": "python",
   "name": "python3"
  },
  "language_info": {
   "codemirror_mode": {
    "name": "ipython",
    "version": 3
   },
   "file_extension": ".py",
   "mimetype": "text/x-python",
   "name": "python",
   "nbconvert_exporter": "python",
   "pygments_lexer": "ipython3",
   "version": "3.11.0"
  }
 },
 "nbformat": 4,
 "nbformat_minor": 4
}
