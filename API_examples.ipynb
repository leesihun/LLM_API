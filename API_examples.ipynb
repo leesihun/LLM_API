{
  "cells": [
    {
      "cell_type": "markdown",
      "metadata": {},
      "source": [
        "# LLM API – End-to-End Examples (Single Notebook)\n",
        "\n",
        "This notebook shows a minimal client and step-by-step examples for:\n",
        "\n",
        "1. Create a new account\n",
        "2. Login\n",
        "3. Change models (admin privilege example)\n",
        "4. Start a new chat and get a response\n",
        "5. Continue a chat\n",
        "6. See chat history\n",
        "7. Perform a websearch\n",
        "8. List tools and run math problems\n",
        "9. Answer based on JSON data ()\n",
        "\n",
        "Set your API base URL below if different from the default.\n"
      ]
    },
    {
      "cell_type": "code",
      "execution_count": null,
      "metadata": {},
      "outputs": [],
      "source": [
        "API_BASE_URL = \"http://127.0.0.1:8000\"\n",
        "print(\"Using:\", API_BASE_URL)\n"
      ]
    },
    {
      "cell_type": "code",
      "execution_count": null,
      "metadata": {},
      "outputs": [],
      "source": [
        "import httpx\n",
        "\n",
        "class LLMApiClient:\n",
        "    def __init__(self, base_url: str):\n",
        "        self.base_url = base_url.rstrip(\"/\")\n",
        "        self.token = None\n",
        "\n",
        "    def _headers(self):\n",
        "        h = {\"Content-Type\": \"application/json\"}\n",
        "        if self.token:\n",
        "            h[\"Authorization\"] = f\"Bearer {self.token}\"\n",
        "        return h\n",
        "\n",
        "    def signup(self, username: str, password: str, role: str = \"guest\"):\n",
        "        r = httpx.post(f\"{self.base_url}/api/auth/signup\", json={\n",
        "            \"username\": username, \"password\": password, \"role\": role\n",
        "        })\n",
        "        r.raise_for_status()\n",
        "        return r.json()\n",
        "\n",
        "    def login(self, username: str, password: str):\n",
        "        r = httpx.post(f\"{self.base_url}/api/auth/login\", json={\n",
        "            \"username\": username, \"password\": password\n",
        "        })\n",
        "        r.raise_for_status()\n",
        "        data = r.json()\n",
        "        self.token = data[\"access_token\"]\n",
        "        return data\n",
        "\n",
        "    def list_models(self):\n",
        "        r = httpx.get(f\"{self.base_url}/v1/models\", headers=self._headers())\n",
        "        r.raise_for_status()\n",
        "        return r.json()\n",
        "\n",
        "    def change_model(self, model: str):\n",
        "        r = httpx.post(f\"{self.base_url}/api/admin/model\", json={\"model\": model}, headers=self._headers())\n",
        "        r.raise_for_status()\n",
        "        return r.json()\n",
        "\n",
        "    def chat_new(self, model: str, user_message: str, agent_type: str = \"auto\"):\n",
        "        payload = {\n",
        "            \"model\": model,\n",
        "            \"messages\": [{\"role\": \"user\", \"content\": user_message}],\n",
        "            \"agent_type\": agent_type\n",
        "        }\n",
        "        r = httpx.post(f\"{self.base_url}/v1/chat/completions\", json=payload, headers=self._headers())\n",
        "        r.raise_for_status()\n",
        "        data = r.json()\n",
        "        return data[\"choices\"][0][\"message\"][\"content\"], data[\"x_session_id\"]\n",
        "\n",
        "    def chat_continue(self, model: str, session_id: str, user_message: str, agent_type: str = \"auto\"):\n",
        "        payload = {\n",
        "            \"model\": model,\n",
        "            \"messages\": [{\"role\": \"user\", \"content\": user_message}],\n",
        "            \"session_id\": session_id,\n",
        "            \"agent_type\": agent_type\n",
        "        }\n",
        "        r = httpx.post(f\"{self.base_url}/v1/chat/completions\", json=payload, headers=self._headers())\n",
        "        r.raise_for_status()\n",
        "        data = r.json()\n",
        "        return data[\"choices\"][0][\"message\"][\"content\"], data[\"x_session_id\"]\n",
        "\n",
        "    def chat_sessions(self):\n",
        "        r = httpx.get(f\"{self.base_url}/api/chat/sessions\", headers=self._headers())\n",
        "        r.raise_for_status()\n",
        "        return r.json()[\"sessions\"]\n",
        "\n",
        "    def chat_history(self, session_id: str):\n",
        "        r = httpx.get(f\"{self.base_url}/api/chat/history/{session_id}\", headers=self._headers())\n",
        "        r.raise_for_status()\n",
        "        return r.json()[\"messages\"]\n",
        "\n",
        "    def tools(self):\n",
        "        r = httpx.get(f\"{self.base_url}/api/tools/list\", headers=self._headers())\n",
        "        r.raise_for_status()\n",
        "        return r.json()[\"tools\"]\n",
        "\n",
        "    def math(self, expression: str):\n",
        "        r = httpx.post(f\"{self.base_url}/api/tools/math\", json={\"expression\": expression}, headers=self._headers())\n",
        "        r.raise_for_status()\n",
        "        return r.json()[\"result\"]\n",
        "\n",
        "    def websearch(self, query: str, max_results: int = 5):\n",
        "        r = httpx.post(f\"{self.base_url}/api/tools/websearch\", json={\"query\": query, \"max_results\": max_results}, headers=self._headers())\n",
        "        r.raise_for_status()\n",
        "        return r.json()[\"results\"]\n",
        "\n",
        "    def answer_from_json(self, model: str, json_blob: dict, question: str):\n",
        "        prompt = f\"Given this JSON: {json_blob}\\nAnswer: {question}\"\n",
        "        return self.chat_new(model, prompt)[0]\n",
        "\n",
        "client = LLMApiClient(API_BASE_URL)\n",
        "print(\"Client ready\")\n"
      ]
    },
    {
      "cell_type": "code",
      "execution_count": null,
      "metadata": {},
      "outputs": [],
      "source": [
        "# 1) Create a new account\n",
        "username = \"alice\"\n",
        "password = \"alice_pw\"\n",
        "client.signup(username, password)\n"
      ]
    },
    {
      "cell_type": "code",
      "execution_count": null,
      "metadata": {},
      "outputs": [],
      "source": [
        "# 2) Login\n",
        "login = client.login(username, password)\n",
        "login\n"
      ]
    },
    {
      "cell_type": "code",
      "execution_count": null,
      "metadata": {},
      "outputs": [],
      "source": [
        "# 3) Change models (admin only) – optional\n",
        "# client.login(\"admin\", \"administrator\")\n",
        "# client.change_model(\"llama3:8b\")\n"
      ]
    },
    {
      "cell_type": "code",
      "execution_count": null,
      "metadata": {},
      "outputs": [],
      "source": [
        "# List models (OpenAI-compatible)\n",
        "models = client.list_models()\n",
        "models\n"
      ]
    },
    {
      "cell_type": "code",
      "execution_count": null,
      "metadata": {},
      "outputs": [],
      "source": [
        "# 4) Start a new chat and get a response\n",
        "MODEL = models[\"data\"][0][\"id\"]\n",
        "reply, session_id = client.chat_new(MODEL, \"Hello! Give me a short haiku about autumn.\")\n",
        "reply, session_id\n"
      ]
    },
    {
      "cell_type": "code",
      "execution_count": null,
      "metadata": {},
      "outputs": [],
      "source": [
        "# 5) Continue a chat\n",
        "reply2, _ = client.chat_continue(MODEL, session_id, \"Now do one about winter.\")\n",
        "reply2\n"
      ]
    },
    {
      "cell_type": "code",
      "execution_count": null,
      "metadata": {},
      "outputs": [],
      "source": [
        "# 6) See chat history\n",
        "client.chat_sessions(), client.chat_history(session_id)\n"
      ]
    },
    {
      "cell_type": "code",
      "execution_count": null,
      "metadata": {},
      "outputs": [],
      "source": [
        "# 7) Websearch – cite sources in your UI using returned URLs\n",
        "client.websearch(\"Who is the president of S. Korea as of October 2025?\", max_results=3)\n"
      ]
    },
    {
      "cell_type": "code",
      "execution_count": null,
      "metadata": {},
      "outputs": [],
      "source": [
        "# 8) Tools: list and math examples\n",
        "client.tools(), client.math(\"11.951/3.751\"), client.math(\"max(1.951, 19.51)\"), client.math(\"10 - 2 - 2 + 5 - 1\")\n"
      ]
    },
    {
      "cell_type": "code",
      "execution_count": null,
      "metadata": {},
      "outputs": [],
      "source": [
        "# 9) Answer based on JSON\n",
        "sample_json = {\"users\": [{\"name\": \"Tom\", \"age\": 30}, {\"name\": \"Jane\", \"age\": 28}]}\n",
        "client.answer_from_json(MODEL, sample_json, \"Who is older?\")\n"
      ]
    },
    {
      "cell_type": "markdown",
      "metadata": {},
      "source": [
        "## RAG: Index two Excel files (폴드 긍정.xlsx, 폴드 부정.xlsx)\n",
        "\n",
        "Place the files under `data/uploads/<your-username>/` or adjust the paths below. The backend now supports `.xlsx` via UnstructuredExcelLoader.\n"
      ]
    },
    {
      "cell_type": "code",
      "execution_count": null,
      "metadata": {},
      "outputs": [],
      "source": [
        "# Upload (optional): use API /api/files/upload via requests with your JWT if needed.\n",
        "# Here we assume files are saved server-side and we just trigger indexing by calling the upload API or reading directly if exposed.\n",
        "\n",
        "import os\n",
        "from pathlib import Path\n",
        "\n",
        "# Example local paths on server side (adjust if needed)\n",
        "username = username  # from earlier cell\n",
        "pos_path = Path(f\"data/uploads/{username}/폴드 긍정.xlsx\")\n",
        "neg_path = Path(f\"data/uploads/{username}/폴드 부정.xlsx\")\n",
        "\n",
        "print(pos_path.exists(), neg_path.exists())\n"
      ]
    },
    {
      "cell_type": "code",
      "execution_count": null,
      "metadata": {},
      "outputs": [],
      "source": [
        "# If files exist, upload via API (to ensure user-scoped indexing)\n",
        "headers = {\"Authorization\": f\"Bearer {client.token}\"}\n",
        "\n",
        "def upload_file(path: Path):\n",
        "    files = {\"file\": (path.name, open(path, \"rb\"), \"application/vnd.openxmlformats-officedocument.spreadsheetml.sheet\")}\n",
        "    r = httpx.post(f\"{API_BASE_URL}/api/files/upload\", headers=headers, files=files)\n",
        "    r.raise_for_status()\n",
        "    return r.json()\n",
        "\n",
        "uploads = []\n",
        "if pos_path.exists():\n",
        "    uploads.append(upload_file(pos_path))\n",
        "if neg_path.exists():\n",
        "    uploads.append(upload_file(neg_path))\n",
        "\n",
        "uploads\n"
      ]
    },
    {
      "cell_type": "code",
      "execution_count": null,
      "metadata": {},
      "outputs": [],
      "source": [
        "# Query RAG across all indexed docs\n",
        "r = httpx.get(f\"{API_BASE_URL}/api/tools/rag/search\", params={\"query\": \"폴드에 대한 긍정/부정 기준을 요약해줘\", \"top_k\": 5}, headers=headers)\n",
        "r.raise_for_status()\n",
        "r.json()\n"
      ]
    }
  ],
  "metadata": {
    "language_info": {
      "name": "python"
    }
  },
  "nbformat": 4,
  "nbformat_minor": 2
}
